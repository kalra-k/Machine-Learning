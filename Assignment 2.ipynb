{
 "cells": [
  {
   "cell_type": "markdown",
   "metadata": {},
   "source": [
    "# Task 1"
   ]
  },
  {
   "cell_type": "markdown",
   "metadata": {},
   "source": [
    "# 1.1 Write a Python program to implement your own myfilter() function which works exactly like Python's built-in function filter()"
   ]
  },
  {
   "cell_type": "code",
   "execution_count": 3,
   "metadata": {},
   "outputs": [
    {
     "name": "stdout",
     "output_type": "stream",
     "text": [
      "[2, 4, 6]\n"
     ]
    }
   ],
   "source": [
    "def even(n):\n",
    "    if n%2==0:\n",
    "        return n\n",
    "\n",
    "lst=[2,3,4,5,6]\n",
    "\n",
    "def my_filter(func,lst):\n",
    "    for num in lst:\n",
    "        even_num=func(num)\n",
    "        yield even_num\n",
    "\n",
    "out=list(my_filter(even,lst))\n",
    "out1=[number for number in out if number!=None]\n",
    "print(out1)\n"
   ]
  },
  {
   "cell_type": "markdown",
   "metadata": {},
   "source": [
    "# 1.2 Write a Python Program to implement your own myreduce() function which works exactly likePython's built-in function reduce()"
   ]
  },
  {
   "cell_type": "code",
   "execution_count": 2,
   "metadata": {},
   "outputs": [
    {
     "name": "stdout",
     "output_type": "stream",
     "text": [
      "15\n"
     ]
    }
   ],
   "source": [
    "from functools import reduce\n",
    "def add(num1, num2):\n",
    "    return num1+num2\n",
    "\n",
    "\n",
    "lst=[1,2,3,4,5]\n",
    "\n",
    "def my_reduce(func,lst):\n",
    "    sum=lst[0]\n",
    "\n",
    "    for i in range(1,len(lst)):\n",
    "        sum=func(sum,lst[i])\n",
    "\n",
    "    return sum\n",
    "\n",
    "\n",
    "out=my_reduce(add,lst)\n",
    "print(out)\n",
    "\n",
    "\n"
   ]
  },
  {
   "cell_type": "markdown",
   "metadata": {},
   "source": [
    "# 2 Implement List comprehensions to produce the following lists.Write List comprehensions to produce the following Lists "
   ]
  },
  {
   "cell_type": "markdown",
   "metadata": {},
   "source": [
    "# ['A', 'C', 'A', 'D', 'G', 'I', ’L’, ‘ D’]"
   ]
  },
  {
   "cell_type": "code",
   "execution_count": 1,
   "metadata": {},
   "outputs": [
    {
     "name": "stdout",
     "output_type": "stream",
     "text": [
      "['A', 'C', 'A', 'D']\n"
     ]
    }
   ],
   "source": [
    "l1=[\"A\",\"C\",\"A\",\"D\"]\n",
    "l2=[\"G\",\"I\",\"L\",\"D\"]\n",
    "l3 = [y for x in [l1] for y in x]\n",
    "print(l3)"
   ]
  },
  {
   "cell_type": "markdown",
   "metadata": {},
   "source": [
    "# ['x', 'xx', 'xxx', 'xxxx', 'y', 'yy', 'yyy', 'yyyy', 'z', 'zz', 'zzz', 'zzzz']"
   ]
  },
  {
   "cell_type": "code",
   "execution_count": 4,
   "metadata": {},
   "outputs": [
    {
     "name": "stdout",
     "output_type": "stream",
     "text": [
      "['x', 'xx', 'xxx', 'xxxx', 'y', 'yy', 'yyy', 'yyyy', 'z', 'zz', 'zzz', 'zzzz']\n"
     ]
    }
   ],
   "source": [
    "l1=[\"x\",\"y\",\"z\"]\n",
    "l2=[l1[i]*j for i in range(3) for j in range(1,5)]\n",
    "print(l2)"
   ]
  },
  {
   "cell_type": "markdown",
   "metadata": {},
   "source": [
    "# ['x', 'y', 'z', 'xx', 'yy', 'zz', 'xxx', 'yyy', 'zzz', 'xxxx', 'yyyy', 'zzzz']"
   ]
  },
  {
   "cell_type": "code",
   "execution_count": 5,
   "metadata": {},
   "outputs": [
    {
     "name": "stdout",
     "output_type": "stream",
     "text": [
      "['x', 'y', 'z', 'xx', 'yy', 'zz', 'xxx', 'yyy', 'zzz', 'xxxx', 'yyyy', 'zzzz']\n"
     ]
    }
   ],
   "source": [
    "l1=[\"x\",\"y\",\"z\"]\n",
    "l2=[l1[j]*i for i in range(1,5) for j in range(3)]\n",
    "print(l2)"
   ]
  },
  {
   "cell_type": "markdown",
   "metadata": {},
   "source": [
    "# [[2], [3], [4], [3], [4], [5], [4], [5], [6]]"
   ]
  },
  {
   "cell_type": "code",
   "execution_count": 6,
   "metadata": {},
   "outputs": [
    {
     "name": "stdout",
     "output_type": "stream",
     "text": [
      "[[2], [3], [4], [3], [4], [5], [4], [5], [6]]\n"
     ]
    }
   ],
   "source": [
    "test_list=[[x+y] for x in range(2,5) for y in range(3)]\n",
    "print(test_list)"
   ]
  },
  {
   "cell_type": "markdown",
   "metadata": {},
   "source": [
    "# [[2, 3, 4, 5], [3, 4, 5, 6], [4, 5, 6, 7], [5, 6, 7, 8]]"
   ]
  },
  {
   "cell_type": "code",
   "execution_count": 7,
   "metadata": {},
   "outputs": [
    {
     "name": "stdout",
     "output_type": "stream",
     "text": [
      "[[2, 3, 4, 5], [3, 4, 5, 6], [4, 5, 6, 7], [5, 6, 7, 8]]\n"
     ]
    }
   ],
   "source": [
    "matrix = [[j+i for j in range(2,6)] for i in range(4)]\n",
    "print(matrix)"
   ]
  },
  {
   "cell_type": "markdown",
   "metadata": {},
   "source": [
    "# [(1, 1), (2, 1), (3, 1), (1, 2), (2, 2), (3, 2), (1, 3), (2, 3), (3, 3)]"
   ]
  },
  {
   "cell_type": "code",
   "execution_count": 8,
   "metadata": {},
   "outputs": [
    {
     "name": "stdout",
     "output_type": "stream",
     "text": [
      "[(1, 1), (2, 1), (3, 1), (1, 2), (2, 2), (3, 2), (1, 3), (2, 3), (3, 3)]\n"
     ]
    }
   ],
   "source": [
    "result=[(y,i) for i in range(1,4) for y in range(1,4)]\n",
    "print(result)"
   ]
  },
  {
   "cell_type": "markdown",
   "metadata": {},
   "source": [
    "# 3. Implement a function longestWord() that takes a list of words and returns the longest one."
   ]
  },
  {
   "cell_type": "code",
   "execution_count": 2,
   "metadata": {},
   "outputs": [
    {
     "name": "stdout",
     "output_type": "stream",
     "text": [
      "Enter list of words to find the longest wordhi this is karishma\n",
      "karishma\n"
     ]
    }
   ],
   "source": [
    "word=input(\"Enter list of words to find the longest word\")\n",
    "words=word.split()\n",
    "\n",
    "def longestWord(words):\n",
    "    longest={}\n",
    "    for word in words:\n",
    "        longest.update({word:len(word)})\n",
    "    long=max(longest.values())\n",
    "    for key, value in longest.items():\n",
    "        if long==value:\n",
    "            result=key\n",
    "        \n",
    "    \n",
    "    print(result)\n",
    "\n",
    "longestWord(words)\n"
   ]
  },
  {
   "cell_type": "markdown",
   "metadata": {},
   "source": [
    "# Task 2"
   ]
  },
  {
   "cell_type": "markdown",
   "metadata": {},
   "source": [
    "# 1.1 Write a Python Program(with class concepts) to find the area of the triangle using the below formula.\n",
    "# area = (s*(s-a)*(s-b)*(s-c)) ** 0.5\n",
    "# Function to take the length of the sides of triangle from user should be defined in the parent class and function to calculate the area should be defined in subclass."
   ]
  },
  {
   "cell_type": "code",
   "execution_count": 19,
   "metadata": {},
   "outputs": [
    {
     "name": "stdout",
     "output_type": "stream",
     "text": [
      "Enter the first side10\n",
      "Enter second side55\n",
      "Enter third side65\n",
      "area is 0.0 Sq Units\n"
     ]
    }
   ],
   "source": [
    "class Initialization:\n",
    "    def __init__(self):\n",
    "        self._a=int(input(\"Enter the first side\"))\n",
    "        self._b=int(input(\"Enter second side\"))\n",
    "        self._c=int(input(\"Enter third side\"))\n",
    "        \n",
    "        \n",
    "class Area(Initialization):\n",
    "    def __init__(self,*args):\n",
    "        super(Area, self).__init__(*args)\n",
    "        s=(self._a+self._b+self._c)/2\n",
    "        ar=((s)*(s-self._a)*(s-self._b)*(s-self._c))**0.5\n",
    "        print(\"area is\",ar,\"Sq Units\")\n",
    "\n",
    "stud=Area()\n",
    "\n",
    "\n",
    "    "
   ]
  },
  {
   "cell_type": "markdown",
   "metadata": {},
   "source": [
    "# 1.2 Write a function filter_long_words() that takes a list of words and an integer n and returns the list of words that are longer than n."
   ]
  },
  {
   "cell_type": "code",
   "execution_count": 1,
   "metadata": {},
   "outputs": [
    {
     "name": "stdout",
     "output_type": "stream",
     "text": [
      "Enter the list of wordsHi there Happy diwali celebrate with joy \n",
      "Enter the number to print the strings longer than that number3\n",
      "['there', 'Happy', 'diwali', 'celebrate', 'with']\n"
     ]
    }
   ],
   "source": [
    "lst=input(\"Enter the list of words\")\n",
    "lst1=lst.split()\n",
    "\n",
    "num=int(input(\"Enter the number to print the strings longer than that number\"))\n",
    "\n",
    "new_list=[]\n",
    "def filter_long_words(group,n):\n",
    "    for word in group:\n",
    "         if len(word)>n:\n",
    "            new_list.append(word)\n",
    "    print(new_list)\n",
    "filter_long_words(lst1,num)\n"
   ]
  },
  {
   "cell_type": "markdown",
   "metadata": {},
   "source": [
    "# Write a Python program using function concept that maps list of words into a list of integers representing the lengths of the corresponding words .\n",
    "# Hint: If a list [ ab,cde,erty] is passed on to the python function output should come as [2,3,4]\n",
    "# Here 2,3 and 4 are the lengths of the words in the list. "
   ]
  },
  {
   "cell_type": "code",
   "execution_count": 3,
   "metadata": {},
   "outputs": [
    {
     "name": "stdout",
     "output_type": "stream",
     "text": [
      "Enter the list of words to calculate their lengthhello to the python\n",
      "['hello', 'to', 'the', 'python']\n",
      "[5, 2, 3, 6]\n"
     ]
    }
   ],
   "source": [
    "\n",
    "\n",
    "lst=input(\"Enter the list of words to calculate their length\")\n",
    "lst1=lst.split()\n",
    "new_list=[]\n",
    "def Calc_length(lst_word):\n",
    "    for word in lst_word:\n",
    "        new_list.append((len(word)))\n",
    "    print(lst_word)\n",
    "    print(new_list)\n",
    "\n",
    "Calc_length(lst1)\n"
   ]
  },
  {
   "cell_type": "markdown",
   "metadata": {},
   "source": [
    "# Write a Python function which takes a character (i.e. a string of length 1) and returns True if it is a vowel, False otherwise."
   ]
  },
  {
   "cell_type": "code",
   "execution_count": 3,
   "metadata": {},
   "outputs": [
    {
     "name": "stdout",
     "output_type": "stream",
     "text": [
      "Enter one letter word to check it is a vowel or notA\n",
      "True\n"
     ]
    }
   ],
   "source": [
    "vowel=[\"a\",\"e\",\"i\",\"o\",\"u\",\"A\",\"E\",\"I\",\"O\",\"U\"]\n",
    "lst=input(\"Enter one letter word to check it is a vowel or not\")\n",
    "\n",
    "def check_vowel(group):\n",
    "    for word in group:\n",
    "        if word in vowel:\n",
    "            print(\"True\")\n",
    "        else:\n",
    "             print(\"False\")\n",
    "check_vowel(lst)\n"
   ]
  },
  {
   "cell_type": "code",
   "execution_count": null,
   "metadata": {},
   "outputs": [],
   "source": []
  }
 ],
 "metadata": {
  "kernelspec": {
   "display_name": "Python 3",
   "language": "python",
   "name": "python3"
  },
  "language_info": {
   "codemirror_mode": {
    "name": "ipython",
    "version": 3
   },
   "file_extension": ".py",
   "mimetype": "text/x-python",
   "name": "python",
   "nbconvert_exporter": "python",
   "pygments_lexer": "ipython3",
   "version": "3.7.0"
  }
 },
 "nbformat": 4,
 "nbformat_minor": 2
}
